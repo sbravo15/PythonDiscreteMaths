{
 "cells": [
  {
   "cell_type": "markdown",
   "id": "545a0fbe",
   "metadata": {},
   "source": [
    "# Set Theory in Python\n"
   ]
  },
  {
   "cell_type": "markdown",
   "id": "9b2772b7",
   "metadata": {},
   "source": [
    "Set theory is a fundamental area of mathematics that is used to study the __properties and behavior of sets__, which are __collections of elements__. It is an important area of computation because many `algorithms, data structures, and programming languages` are based on sets and set operations. Here are some additional bullet points on advanced topics within set theory, as well as some applications in the real world:\n",
    "\n",
    "   - Cardinality: The study of the __number of elements__ in a set and the properties of infinite sets.\n",
    "   - Ordinal numbers: A way of defining a total order on a set, used in the study of well-ordered sets and the properties of order.\n",
    "   - Zorn's lemma: A powerful tool used to __prove the existence of certain types of maximal elements__ in partially ordered sets.\n",
    "   - The Axiom of Choice: A principle used to __prove the existence of certain types of sets__, and is equivalent to the well-ordering theorem.\n",
    "   - The Continuum Hypothesis: The statement that there is `no set` whose cardinality is strictly between that of the __integers__ and the __real numbers__.\n",
    "    \n",
    "\n",
    "#### Applications in Computer Science:\n",
    "   - Set representation and manipulation in programming languages\n",
    "   - Set operations in `databases` and `data manipulation`\n",
    "   - Combinatorial and graph algorithms\n",
    "   - Automata and formal languages\n",
    "   - Set theory is also used in many branches of __mathematics__, such as topology, algebra and analysis.\n",
    "   - Set theory is also found in some branches of __physics__, such as quantum mechanics and thermodynamics, and in some branches of engineering, such as control theory and digital signal processing.\n",
    "   - Also, in set theory is used in `computer science and artificial intelligence` for __problem solving and decision making__."
   ]
  },
  {
   "cell_type": "markdown",
   "id": "dde2d0e1",
   "metadata": {},
   "source": [
    "-"
   ]
  },
  {
   "cell_type": "markdown",
   "id": "f964edc5",
   "metadata": {},
   "source": [
    "A __set__ is a collection of __distinct elements__. In Python, sets can be created using the `set()` function or by using curly braces `{}`."
   ]
  },
  {
   "cell_type": "code",
   "execution_count": 1,
   "id": "79df952d",
   "metadata": {},
   "outputs": [
    {
     "name": "stdout",
     "output_type": "stream",
     "text": [
      "{1, 2, 3, 4}\n"
     ]
    }
   ],
   "source": [
    "# Creating a set\n",
    "\n",
    "my_set = set([1, 2, 3, 4])\n",
    "print(my_set)\n",
    "# Output: {1, 2, 3, 4}"
   ]
  },
  {
   "cell_type": "code",
   "execution_count": 2,
   "id": "eaccb02c",
   "metadata": {},
   "outputs": [
    {
     "name": "stdout",
     "output_type": "stream",
     "text": [
      "{1, 2, 3, 4}\n"
     ]
    }
   ],
   "source": [
    "#Creating a set with {}\n",
    "\n",
    "my_set = {1, 2, 3, 4}\n",
    "print(my_set)\n",
    "# Output: {1, 2, 3, 4}"
   ]
  },
  {
   "cell_type": "code",
   "execution_count": 3,
   "id": "37c75325",
   "metadata": {
    "scrolled": true
   },
   "outputs": [
    {
     "name": "stdout",
     "output_type": "stream",
     "text": [
      "{1, 2, 3, 4, 5}\n"
     ]
    }
   ],
   "source": [
    "# Adding elements to a set\n",
    "my_set.add(5)\n",
    "print(my_set)\n",
    "# Output: {1, 2, 3, 4, 5}"
   ]
  },
  {
   "cell_type": "code",
   "execution_count": 4,
   "id": "c203a1b6",
   "metadata": {},
   "outputs": [
    {
     "name": "stdout",
     "output_type": "stream",
     "text": [
      "{1, 2, 3, 5}\n"
     ]
    }
   ],
   "source": [
    "# Removing elements from a set\n",
    "my_set.remove(4)\n",
    "print(my_set)\n",
    "# Output: {1, 2, 3, 5}"
   ]
  },
  {
   "cell_type": "code",
   "execution_count": 5,
   "id": "c48de182",
   "metadata": {},
   "outputs": [
    {
     "name": "stdout",
     "output_type": "stream",
     "text": [
      "{1, 2, 3, 4, 5}\n",
      "{3}\n",
      "{1, 2}\n",
      "{1, 2, 4, 5}\n"
     ]
    }
   ],
   "source": [
    "#Set operations\n",
    "\n",
    "# Union\n",
    "A = {1, 2, 3}\n",
    "B = {3, 4, 5}\n",
    "C = A.union(B)\n",
    "print(C)\n",
    "# Output: {1, 2, 3, 4, 5}\n",
    "\n",
    "# Intersection\n",
    "A = {1, 2, 3}\n",
    "B = {3, 4, 5}\n",
    "C = A.intersection(B)\n",
    "print(C)\n",
    "# Output: {3}\n",
    "\n",
    "# Difference\n",
    "A = {1, 2, 3}\n",
    "B = {3, 4, 5}\n",
    "C = A.difference(B)\n",
    "print(C)\n",
    "# Output: {1, 2}\n",
    "\n",
    "# Symmetric Difference\n",
    "A = {1, 2, 3}\n",
    "B = {3, 4, 5}\n",
    "C = A.symmetric_difference(B)\n",
    "print(C)\n",
    "# Output: {1, 2, 4, 5}\n"
   ]
  },
  {
   "cell_type": "code",
   "execution_count": 8,
   "id": "a667f1a7",
   "metadata": {},
   "outputs": [],
   "source": [
    "# Visualization\n",
    "from matplotlib_venn import venn2\n",
    "from matplotlib import pyplot as plt\n",
    "\n",
    "A = {1, 2, 3, 4, 5}\n",
    "B = {4, 5, 6, 7, 8}\n"
   ]
  },
  {
   "cell_type": "code",
   "execution_count": 7,
   "id": "7f2d9776",
   "metadata": {},
   "outputs": [
    {
     "data": {
      "image/png": "[encoded data removed]",
      "text/plain": [
       "<Figure size 432x288 with 1 Axes>"
      ]
     },
     "metadata": {},
     "output_type": "display_data"
    }
   ],
   "source": [
    "# Plotting the venn diagram\n",
    "venn2(subsets = (len(A), len(B), len(A.intersection(B))), set_labels = ('Set A', 'Set B'))\n",
    "plt.show()"
   ]
  }
 ],
 "metadata": {
  "kernelspec": {
   "display_name": "Python 3 (ipykernel)",
   "language": "python",
   "name": "python3"
  },
  "language_info": {
   "codemirror_mode": {
    "name": "ipython",
    "version": 3
   },
   "file_extension": ".py",
   "mimetype": "text/x-python",
   "name": "python",
   "nbconvert_exporter": "python",
   "pygments_lexer": "ipython3",
   "version": "3.9.6"
  }
 },
 "nbformat": 4,
 "nbformat_minor": 5
}
