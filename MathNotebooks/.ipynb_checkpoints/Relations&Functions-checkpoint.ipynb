{
 "cells": [
  {
   "cell_type": "markdown",
   "id": "b752521d",
   "metadata": {},
   "source": [
    "# Relations and Functions in Python\n",
    "\n",
    "A relation is a set of ordered pairs, where each ordered pair represents a relationship between two elements. A function is a special type of relation where each element in the domain is associated with exactly one element in the codomain."
   ]
  },
  {
   "cell_type": "markdown",
   "id": "a6493424",
   "metadata": {},
   "source": [
    "## Properties of Relations\n",
    "\n",
    "- Reflexivity: A relation R is reflexive if (x,x) is in R for every x in the domain.\n",
    "- Symmetry: A relation R is symmetric if (x,y) is in R, then (y,x) is also in R.\n",
    "- Transitivity: A relation R is transitive if (x,y) and (y,z) are in R, then (x,z) is also in R."
   ]
  },
  {
   "cell_type": "markdown",
   "id": "c1d79e0e",
   "metadata": {},
   "source": [
    "## Properties of Functions\n",
    "\n",
    "- Injectivity: A function f is injective if no two distinct elements in the domain have the same image in the codomain.\n",
    "- Surjectivity: A function f is surjective if every element in the codomain is the image of at least one element in the domain.\n",
    "- Inverse Function: A function f is invertible if there exists a function g such that f(g(x)) = x and g(f(x)) = x for all x in the domain."
   ]
  },
  {
   "cell_type": "code",
   "execution_count": null,
   "id": "10852d06",
   "metadata": {},
   "outputs": [],
   "source": [
    "# Example of a function\n",
    "\n",
    "def f(x):\n",
    "    return x**2"
   ]
  },
  {
   "cell_type": "code",
   "execution_count": null,
   "id": "855f632c",
   "metadata": {},
   "outputs": [],
   "source": [
    "# Example of inverse function\n",
    "\n",
    "def f_inv(x):\n",
    "    return x**(1/2)"
   ]
  },
  {
   "cell_type": "code",
   "execution_count": null,
   "id": "68e1cf12",
   "metadata": {},
   "outputs": [],
   "source": [
    "# Example of checking properties of function\n",
    "\n",
    "def check_properties(f):\n",
    "    # Injectivity\n",
    "    if len(set(f(x) for x in range(10))) == 10"
   ]
  }
 ],
 "metadata": {
  "kernelspec": {
   "display_name": "Python 3 (ipykernel)",
   "language": "python",
   "name": "python3"
  },
  "language_info": {
   "codemirror_mode": {
    "name": "ipython",
    "version": 3
   },
   "file_extension": ".py",
   "mimetype": "text/x-python",
   "name": "python",
   "nbconvert_exporter": "python",
   "pygments_lexer": "ipython3",
   "version": "3.9.6"
  }
 },
 "nbformat": 4,
 "nbformat_minor": 5
}
