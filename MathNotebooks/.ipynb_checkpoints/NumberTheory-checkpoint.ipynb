{
 "cells": [
  {
   "cell_type": "markdown",
   "id": "c9a9a1ad",
   "metadata": {},
   "source": [
    "# Number Theory in Python\n",
    "\n",
    "Number theory is the branch of mathematics that deals with the properties and behavior of numbers, particularly integers."
   ]
  },
  {
   "cell_type": "markdown",
   "id": "b29da1a6",
   "metadata": {},
   "source": [
    "## Divisibility\n",
    "\n",
    "A number is divisible by another number if the remainder is zero when the number is divided by that number. In Python, we can use the modulo operator (%), which returns the remainder of the division, to check for divisibility."
   ]
  },
  {
   "cell_type": "code",
   "execution_count": 3,
   "id": "4142e8df",
   "metadata": {},
   "outputs": [
    {
     "name": "stdout",
     "output_type": "stream",
     "text": [
      "1\n",
      "0\n"
     ]
    }
   ],
   "source": [
    "# Example of divisibility\n",
    "\n",
    "print(7 % 3) # Output: 1\n",
    "print(6 % 3) # Output: 0"
   ]
  },
  {
   "cell_type": "markdown",
   "id": "57e0bb22",
   "metadata": {},
   "source": [
    "## Modular Arithmetic\n",
    "\n",
    "Modular arithmetic is a system of arithmetic for integers, where numbers \"wrap around\" upon reaching a certain value. In Python, we can use the modulo operator to perform modular arithmetic."
   ]
  },
  {
   "cell_type": "code",
   "execution_count": 4,
   "id": "d0d1b2ec",
   "metadata": {},
   "outputs": [
    {
     "name": "stdout",
     "output_type": "stream",
     "text": [
      "1\n",
      "2\n",
      "2\n"
     ]
    }
   ],
   "source": [
    "# Example of modular arithmetic\n",
    "\n",
    "print(7 % 3) # Output: 1\n",
    "print(8 % 3) # Output: 2\n",
    "print(-1 % 3) # Output: 2"
   ]
  },
  {
   "cell_type": "markdown",
   "id": "b54c9fe1",
   "metadata": {},
   "source": [
    "## Number-theoretic algorithms\n",
    "\n",
    "There are several number-theoretic algorithms such as Euclidean Algorithm, Sieve of Eratosthenes, etc. that are used to solve number-theoretic problems."
   ]
  },
  {
   "cell_type": "code",
   "execution_count": 5,
   "id": "ab7513d0",
   "metadata": {},
   "outputs": [
    {
     "name": "stdout",
     "output_type": "stream",
     "text": [
      "6\n"
     ]
    }
   ],
   "source": [
    "# Example of Euclidean Algorithm\n",
    "\n",
    "def gcd(a, b):\n",
    "    while b:\n",
    "        a, b = b, a % b\n",
    "    return a\n",
    "\n",
    "print(gcd(48, 18)) # Output: 6"
   ]
  },
  {
   "cell_type": "code",
   "execution_count": 6,
   "id": "4301ccad",
   "metadata": {},
   "outputs": [],
   "source": [
    "# Visualization\n",
    "\n",
    "import matplotlib.pyplot as plt"
   ]
  },
  {
   "cell_type": "code",
   "execution_count": 7,
   "id": "867e2ad6",
   "metadata": {},
   "outputs": [
    {
     "data": {
      "image/png": "[encoded data removed]",
      "text/plain": [
       "<Figure size 432x288 with 1 Axes>"
      ]
     },
     "metadata": {
      "needs_background": "light"
     },
     "output_type": "display_data"
    }
   ],
   "source": [
    "# Plotting the number line\n",
    "\n",
    "plt.hlines(0,-10,10)\n",
    "plt.vlines(-10,0,0.5)\n",
    "plt.vlines(10,0,0.5)\n",
    "plt.xticks(range(-10,11))\n",
    "plt.show()"
   ]
  }
 ],
 "metadata": {
  "kernelspec": {
   "display_name": "Python 3 (ipykernel)",
   "language": "python",
   "name": "python3"
  },
  "language_info": {
   "codemirror_mode": {
    "name": "ipython",
    "version": 3
   },
   "file_extension": ".py",
   "mimetype": "text/x-python",
   "name": "python",
   "nbconvert_exporter": "python",
   "pygments_lexer": "ipython3",
   "version": "3.9.6"
  }
 },
 "nbformat": 4,
 "nbformat_minor": 5
}
