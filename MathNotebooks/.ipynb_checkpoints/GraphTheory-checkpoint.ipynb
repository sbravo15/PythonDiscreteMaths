{
 "cells": [
  {
   "cell_type": "markdown",
   "id": "857a8bac",
   "metadata": {},
   "source": [
    "# Graph Theory in Python\n",
    "\n",
    "Graph theory is the branch of mathematics that deals with the study of graphs, which are mathematical structures used to model pairwise relations between objects."
   ]
  },
  {
   "cell_type": "markdown",
   "id": "5474ef7b",
   "metadata": {},
   "source": [
    "## Graph Representation\n",
    "\n",
    "A graph can be represented using an adjacency list or an adjacency matrix. In Python, we can use a dictionary to represent an adjacency list and a nested list to represent an adjacency matrix."
   ]
  },
  {
   "cell_type": "markdown",
   "id": "fd0d06f2",
   "metadata": {},
   "source": [
    "## Graph Traversal\n",
    "\n",
    "Graph traversal is the process of visiting all the vertices of a graph in a specific order. In Python, we can use depth-first search (DFS) and breadth-first search (BFS) to traverse a graph."
   ]
  },
  {
   "cell_type": "code",
   "execution_count": 2,
   "id": "4b827fd3",
   "metadata": {},
   "outputs": [],
   "source": [
    "# Example of graph representation using adjacency list\n",
    "\n",
    "graph = {\n",
    "    \"A\": [\"B\", \"C\"],\n",
    "    \"B\": [\"A\", \"D\", \"E\"],\n",
    "    \"C\": [\"A\", \"F\"],\n",
    "    \"D\": [\"B\"],\n",
    "    \"E\": [\"B\", \"F\"],\n",
    "    \"F\": [\"C\", \"E\"]\n",
    "}"
   ]
  },
  {
   "cell_type": "code",
   "execution_count": 3,
   "id": "25bb7382",
   "metadata": {},
   "outputs": [],
   "source": [
    "# Example of graph representation using adjacency matrix\n",
    "\n",
    "graph = [\n",
    "    [0, 1, 1, 0, 0, 0],\n",
    "    [1, 0, 0, 1, 1, 0],\n",
    "    [1, 0, 0, 0, 0, 1],\n",
    "    [0, 1, 0, 0, 0, 0],\n",
    "    [0, 1, 0, 0, 0, 1],\n",
    "    [0, 0, 1, 0, 1, 0]\n",
    "]"
   ]
  },
  {
   "cell_type": "code",
   "execution_count": 4,
   "id": "63dcde68",
   "metadata": {},
   "outputs": [
    {
     "name": "stdout",
     "output_type": "stream",
     "text": [
      "{0, 1, 2, 3, 4, 5}\n"
     ]
    }
   ],
   "source": [
    "# Example of DFS traversal\n",
    "\n",
    "def dfs(graph, start,visited=set()):\n",
    "    visited.add(start)\n",
    "    for i in range(len(graph)):\n",
    "        if graph[start][i] and i not in visited:\n",
    "            dfs(graph, i, visited)\n",
    "    return visited\n",
    "\n",
    "print(dfs(graph, 0))"
   ]
  },
  {
   "cell_type": "code",
   "execution_count": 5,
   "id": "789812cf",
   "metadata": {},
   "outputs": [
    {
     "name": "stdout",
     "output_type": "stream",
     "text": [
      "{0, 1, 2, 3, 4, 5}\n"
     ]
    }
   ],
   "source": [
    "# Example of BFS traversal\n",
    "\n",
    "def bfs(graph, start,visited=set()):\n",
    "    queue = [start]\n",
    "    visited.add(start)\n",
    "    while queue:\n",
    "        vertex = queue.pop(0)\n",
    "        for i in range(len(graph)):\n",
    "            if graph[vertex][i] and i not in visited:\n",
    "                visited.add(i)\n",
    "                queue.append(i)\n",
    "    return visited\n",
    "\n",
    "print(bfs(graph, 0))"
   ]
  },
  {
   "cell_type": "code",
   "execution_count": 6,
   "id": "03456bda",
   "metadata": {},
   "outputs": [],
   "source": [
    "# Visualization\n",
    "import networkx as nx\n",
    "import matplotlib.pyplot as plt"
   ]
  },
  {
   "cell_type": "code",
   "execution_count": 7,
   "id": "928da4da",
   "metadata": {},
   "outputs": [],
   "source": [
    "# Creating a graph\n",
    "\n",
    "G = nx.Graph()\n",
    "\n",
    "G.add_edges_from([(0, 1), (1, 2), (2, 3), (3, 4)])"
   ]
  },
  {
   "cell_type": "code",
   "execution_count": 8,
   "id": "f7992070",
   "metadata": {},
   "outputs": [
    {
     "data": {
      "image/png": "[encoded data removed]",
      "text/plain": [
       "<Figure size 432x288 with 1 Axes>"
      ]
     },
     "metadata": {},
     "output_type": "display_data"
    }
   ],
   "source": [
    "# Plotting the graph\n",
    "\n",
    "nx.draw(G, with_labels=True)\n",
    "plt.show()"
   ]
  }
 ],
 "metadata": {
  "kernelspec": {
   "display_name": "Python 3 (ipykernel)",
   "language": "python",
   "name": "python3"
  },
  "language_info": {
   "codemirror_mode": {
    "name": "ipython",
    "version": 3
   },
   "file_extension": ".py",
   "mimetype": "text/x-python",
   "name": "python",
   "nbconvert_exporter": "python",
   "pygments_lexer": "ipython3",
   "version": "3.9.6"
  }
 },
 "nbformat": 4,
 "nbformat_minor": 5
}
