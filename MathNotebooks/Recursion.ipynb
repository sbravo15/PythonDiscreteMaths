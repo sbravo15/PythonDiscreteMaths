{
 "cells": [
  {
   "cell_type": "markdown",
   "id": "5e0f77a5",
   "metadata": {},
   "source": [
    "# Recursion in Python\n",
    "\n",
    "Recursion is a technique where a function calls itself in order to solve a problem."
   ]
  },
  {
   "cell_type": "markdown",
   "id": "2745393d",
   "metadata": {},
   "source": [
    "## Recurrence Relations\n",
    "\n",
    "A recurrence relation is a way of defining a sequence of numbers in terms of one or more preceding terms. The general form of a recurrence relation is:\n",
    "\n",
    "a(n) = f(n, a(n-1), a(n-2), ..., a(n-k))\n",
    "\n",
    "where a(n) is the nth term of the sequence, and f is a function that defines the relation between the nth term and the preceding terms."
   ]
  },
  {
   "cell_type": "code",
   "execution_count": 3,
   "id": "058c0b37",
   "metadata": {},
   "outputs": [],
   "source": [
    "# Example of a recurrence relation\n",
    "\n",
    "def fibonacci(n):\n",
    "\n",
    "    if n == 0:\n",
    "\n",
    "        return 0\n",
    "\n",
    "    elif n == 1:\n",
    "\n",
    "        return 1\n",
    "\n",
    "    else:\n",
    "\n",
    "        return fibonacci(n-1) + fibonacci(n-2)\n"
   ]
  },
  {
   "cell_type": "markdown",
   "id": "66b18ff0",
   "metadata": {},
   "source": [
    "### Explainning the Code Above \n",
    "#### Example of a recursive function to calculate the n-th term of the Fibonacci sequence using a recurrence relation.\n",
    "\n",
    "The Fibonacci sequence is a series of numbers in which each number is the sum of the two preceding ones, usually starting with 0 and 1. The sequence goes __0, 1, 1, 2, 3, 5, 8, 13, 21, 34, and so on__.\n",
    "\n",
    "The function starts by defining a base case for when n is equal to 0 or 1. In these cases, the function returns 0 or 1, respectively. This is because the first two terms of the Fibonacci sequence are 0 and 1.\n",
    "\n",
    "```  \n",
    "if n == 0:\n",
    "    return 0\n",
    "elif n == 1:\n",
    "    return 1\n",
    "```\n",
    "\n",
    "For any other value of n, the function calculates the n-th term of the Fibonacci sequence by calling itself recursively and summing the result of the previous two recursive calls.\n",
    "\n",
    "```\n",
    "    return fibonacci(n-1) + fibonacci(n-2)\n",
    "\n",
    "```\n",
    "For example, when n is equal to 5, the function will call itself recursively with the values n-1 and n-2 which are 4 and 3 respectively. Each of these recursive calls will in turn call the function recursively with the values n-1 and n-2 until the base cases of 0 and 1 are reached. The function will then work its way back up the recursive calls, summing the results of each call and returning the final value of 5 which is the 5th term of the fibonacci series.\n",
    "\n",
    "This recursive function has a time complexity of O(2^n) which is exponential, as for each call of the function, it calls itself twice. While it is simple to understand and implement, it is not efficient for large values of n.\n",
    "\n",
    "It is important to note that, there are more efficient algorithms to calculate the fibonacci series such as the dynamic programming approach, which has a time complexity of O(n) but the idea behind this example is to demonstrate the recursion."
   ]
  },
  {
   "cell_type": "code",
   "execution_count": null,
   "id": "85678623",
   "metadata": {},
   "outputs": [],
   "source": []
  }
 ],
 "metadata": {
  "kernelspec": {
   "display_name": "Python 3 (ipykernel)",
   "language": "python",
   "name": "python3"
  },
  "language_info": {
   "codemirror_mode": {
    "name": "ipython",
    "version": 3
   },
   "file_extension": ".py",
   "mimetype": "text/x-python",
   "name": "python",
   "nbconvert_exporter": "python",
   "pygments_lexer": "ipython3",
   "version": "3.9.6"
  }
 },
 "nbformat": 4,
 "nbformat_minor": 5
}
