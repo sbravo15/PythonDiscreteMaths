{
 "cells": [
  {
   "cell_type": "markdown",
   "id": "ebd4eb85",
   "metadata": {},
   "source": [
    "# Logic and Propositional Logic in Python\n",
    "\n",
    "Logic is the study of reasoning and argumentation. Propositional logic is a branch of logic that deals with propositions, statements that can be either true or false."
   ]
  },
  {
   "cell_type": "markdown",
   "id": "405aae90",
   "metadata": {},
   "source": [
    "Logic is a fundamental area of mathematics and computer science that is used to __reason and infer__ information. It is important in computation because it is used to `model and reason about the behavior of algorithms`, systems, and programs. Here are some additional bullet points on advanced topics within Logic and some applications in the real world:\n",
    "\n",
    "- Predicate Logic: Extension of propositional logic that allows for __variables and predicates__.\n",
    "- Modal logic: A type of logic that allows for reasoning about the possible worlds and the necessary truths\n",
    "- Temporal logic: A type of logic that allows for reasoning about __time and temporal relations__\n",
    "- Non-classical logics: Logics that deviate from the standard propositional and predicate logics, such as fuzzy logic and paraconsistent logic\n",
    "\n",
    "Applications in Computer Science:\n",
    " - Automated reasoning and theorem proving\n",
    " - Logical foundations of programming languages\n",
    " - Verification and validation of software and hardware systems\n",
    " - Knowledge representation and reasoning in artificial intelligence\n",
    " - Database querying and reasoning\n",
    " - Natural Language Processing\n",
    "\n",
    "Logic is a broad field with many diverse areas of study and applications, from theoretical foundations to practical applications in `computer science and artificial intelligence`. It is also a very important area of mathematics and has applications in areas such as philosophy and cognitive science."
   ]
  },
  {
   "cell_type": "markdown",
   "id": "3cef2d36",
   "metadata": {},
   "source": [
    "### Propositions\n",
    "\n",
    "A proposition is a statement that can be either true or false. In Python, we can represent propositions using Boolean variables, which can take on the values True or False.\n"
   ]
  },
  {
   "cell_type": "code",
   "execution_count": 7,
   "id": "776f7990",
   "metadata": {},
   "outputs": [],
   "source": [
    "# Example propositions\n",
    "\n",
    "p = True\n",
    "q = False\n",
    "r = True"
   ]
  },
  {
   "cell_type": "markdown",
   "id": "d1d63364",
   "metadata": {},
   "source": [
    "# Logical Operators\n",
    "\n",
    "There are several logical operators that can be used to combine propositions and form more complex statements.\n",
    "\n",
    "- \"and\" operator (&& or &)\n",
    "- \"or\" operator (|| or |)\n",
    "- \"not\" operator (!)\n",
    "- \"xor\" operator (^)\n",
    "- \"implication\" operator (->)\n"
   ]
  },
  {
   "cell_type": "code",
   "execution_count": 8,
   "id": "3c22a247",
   "metadata": {},
   "outputs": [
    {
     "name": "stdout",
     "output_type": "stream",
     "text": [
      "False\n",
      "True\n",
      "False\n",
      "True\n"
     ]
    }
   ],
   "source": [
    "# Example usage of logical operators\n",
    "\n",
    "p = True\n",
    "q = False\n",
    "\n",
    "print(p and q) # Output: False\n",
    "print(p or q) # Output: True\n",
    "print(not p) # Output: False\n",
    "print(p ^ q) # Output: True"
   ]
  },
  {
   "cell_type": "markdown",
   "id": "2aa119ad",
   "metadata": {},
   "source": [
    "### Truth Tables\n",
    "\n",
    "A truth table is a way to represent the truth values of a logical expression for all possible combinations of its propositional variables.\n"
   ]
  },
  {
   "cell_type": "code",
   "execution_count": 14,
   "id": "e5fc805b",
   "metadata": {
    "scrolled": true
   },
   "outputs": [
    {
     "name": "stdout",
     "output_type": "stream",
     "text": [
      "p q p and q\n",
      "True False False\n",
      "True False True\n",
      "True False False\n",
      "True False True\n"
     ]
    }
   ],
   "source": [
    "# Example truth table for a logical expression\n",
    "\n",
    "p = True\n",
    "q = False\n",
    "\n",
    "print(\"p\", \"q\", \"p and q\")\n",
    "print(p, q, p and q)\n",
    "print(p, q, p or q)\n",
    "print(p, q, not p)\n",
    "print(p, q, p ^ q)"
   ]
  },
  {
   "cell_type": "code",
   "execution_count": 1,
   "id": "4fdb40ab",
   "metadata": {},
   "outputs": [
    {
     "ename": "ImportError",
     "evalue": "cannot import name 'TruthTable' from 'truthtable' (/Library/Frameworks/Python.framework/Versions/3.9/lib/python3.9/site-packages/truthtable/__init__.py)",
     "output_type": "error",
     "traceback": [
      "\u001b[0;31m---------------------------------------------------------------------------\u001b[0m",
      "\u001b[0;31mImportError\u001b[0m                               Traceback (most recent call last)",
      "\u001b[0;32m/var/folders/7q/qv8kfjjx3w54dzb96pyhlr080000gn/T/ipykernel_52518/316868078.py\u001b[0m in \u001b[0;36m<module>\u001b[0;34m\u001b[0m\n\u001b[1;32m      1\u001b[0m \u001b[0;31m# Visualization\u001b[0m\u001b[0;34m\u001b[0m\u001b[0;34m\u001b[0m\u001b[0;34m\u001b[0m\u001b[0m\n\u001b[0;32m----> 2\u001b[0;31m \u001b[0;32mfrom\u001b[0m \u001b[0mtruthtable\u001b[0m \u001b[0;32mimport\u001b[0m \u001b[0mTruthTable\u001b[0m\u001b[0;34m\u001b[0m\u001b[0;34m\u001b[0m\u001b[0m\n\u001b[0m\u001b[1;32m      3\u001b[0m \u001b[0;34m\u001b[0m\u001b[0m\n\u001b[1;32m      4\u001b[0m \u001b[0mexpr\u001b[0m \u001b[0;34m=\u001b[0m \u001b[0;34m'p & q'\u001b[0m\u001b[0;34m\u001b[0m\u001b[0;34m\u001b[0m\u001b[0m\n\u001b[1;32m      5\u001b[0m \u001b[0mtt\u001b[0m \u001b[0;34m=\u001b[0m \u001b[0mTruthTable\u001b[0m\u001b[0;34m(\u001b[0m\u001b[0mexpr\u001b[0m\u001b[0;34m)\u001b[0m\u001b[0;34m\u001b[0m\u001b[0;34m\u001b[0m\u001b[0m\n",
      "\u001b[0;31mImportError\u001b[0m: cannot import name 'TruthTable' from 'truthtable' (/Library/Frameworks/Python.framework/Versions/3.9/lib/python3.9/site-packages/truthtable/__init__.py)"
     ]
    }
   ],
   "source": [
    "# Visualization\n",
    "from truthtable import TruthTable\n",
    "\n",
    "expr = 'p & q'\n",
    "tt = TruthTable(expr)\n",
    "print(tt.table())\n"
   ]
  },
  {
   "cell_type": "code",
   "execution_count": null,
   "id": "7e687bfb",
   "metadata": {},
   "outputs": [],
   "source": []
  }
 ],
 "metadata": {
  "kernelspec": {
   "display_name": "Python 3 (ipykernel)",
   "language": "python",
   "name": "python3"
  },
  "language_info": {
   "codemirror_mode": {
    "name": "ipython",
    "version": 3
   },
   "file_extension": ".py",
   "mimetype": "text/x-python",
   "name": "python",
   "nbconvert_exporter": "python",
   "pygments_lexer": "ipython3",
   "version": "3.9.6"
  }
 },
 "nbformat": 4,
 "nbformat_minor": 5
}
