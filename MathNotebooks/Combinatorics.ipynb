{
 "cells": [
  {
   "cell_type": "markdown",
   "id": "e3e05333",
   "metadata": {},
   "source": [
    "# Combinatorics in Python\n",
    "\n",
    "Combinatorics is the branch of mathematics that deals with counting, arranging and relating different objects."
   ]
  },
  {
   "cell_type": "markdown",
   "id": "25175ef4",
   "metadata": {},
   "source": [
    "## Counting\n",
    "\n",
    "Counting is the process of determining the number of elements in a set or a collection of objects. In Python, we can use the built-in len() function to get the number of elements in a list or a set."
   ]
  },
  {
   "cell_type": "code",
   "execution_count": 1,
   "id": "c80e59d7",
   "metadata": {},
   "outputs": [
    {
     "name": "stdout",
     "output_type": "stream",
     "text": [
      "5\n"
     ]
    }
   ],
   "source": [
    "# Example of counting\n",
    "\n",
    "my_list = [1, 2, 3, 4, 5]\n",
    "print(len(my_list)) # Output: 5"
   ]
  },
  {
   "cell_type": "markdown",
   "id": "b4cb6bff",
   "metadata": {},
   "source": [
    "## Permutations\n",
    "\n",
    "Permutations are the ways in which a set of elements can be arranged in a particular order. In Python, we can use the itertools library to generate permutations of a given set of elements."
   ]
  },
  {
   "cell_type": "code",
   "execution_count": 2,
   "id": "473bc549",
   "metadata": {},
   "outputs": [
    {
     "name": "stdout",
     "output_type": "stream",
     "text": [
      "[(1, 2, 3), (1, 3, 2), (2, 1, 3), (2, 3, 1), (3, 1, 2), (3, 2, 1)]\n"
     ]
    }
   ],
   "source": [
    "# Example of permutations\n",
    "\n",
    "import itertools\n",
    "\n",
    "my_list = [1, 2, 3]\n",
    "result = list(itertools.permutations(my_list))\n",
    "print(result)\n",
    "# Output: [(1, 2, 3), (1, 3, 2), (2, 1, 3), (2, 3, 1), (3, 1, 2), (3, 2, 1)]"
   ]
  },
  {
   "cell_type": "markdown",
   "id": "947c9d46",
   "metadata": {},
   "source": [
    "## Combinations\n",
    "\n",
    "Combinations are the ways in which a set of elements can be selected without regard to the order. In Python, we can use the itertools library to generate combinations of a given set of elements."
   ]
  },
  {
   "cell_type": "code",
   "execution_count": 4,
   "id": "60d5dff2",
   "metadata": {},
   "outputs": [
    {
     "name": "stdout",
     "output_type": "stream",
     "text": [
      "[(1, 2), (1, 3), (2, 3)]\n"
     ]
    }
   ],
   "source": [
    "# Example of combinations\n",
    "\n",
    "import itertools\n",
    "\n",
    "my_list = [1, 2, 3]\n",
    "result = list(itertools.combinations(my_list, 2))\n",
    "print(result)\n",
    "# Output: [(1, 2), (1, 3), (2, 3)]"
   ]
  },
  {
   "cell_type": "markdown",
   "id": "71580233",
   "metadata": {},
   "source": [
    "## Discrete probability\n",
    "\n",
    "Discrete probability is the branch of probability theory that deals with counting and combinations. In Python, we can use the math library to calculate probability of an event."
   ]
  },
  {
   "cell_type": "code",
   "execution_count": 5,
   "id": "78d85531",
   "metadata": {},
   "outputs": [
    {
     "name": "stdout",
     "output_type": "stream",
     "text": [
      "0.3333333333333333\n"
     ]
    }
   ],
   "source": [
    "# Example of discrete probability\n",
    "\n",
    "import math\n",
    "\n",
    "total_outcomes = 6\n",
    "favorable_outcomes = 2\n",
    "\n",
    "probability = favorable_outcomes / total_outcomes\n",
    "print(probability)\n",
    "# Output: 0.3333"
   ]
  },
  {
   "cell_type": "code",
   "execution_count": 6,
   "id": "d2716d1a",
   "metadata": {},
   "outputs": [],
   "source": [
    "# Visualization\n",
    "\n",
    "from matplotlib import pyplot as plt"
   ]
  },
  {
   "cell_type": "code",
   "execution_count": 7,
   "id": "05543d2a",
   "metadata": {},
   "outputs": [
    {
     "data": {
      "image/png": "[encoded data removed]",
      "text/plain": [
       "<Figure size 432x288 with 1 Axes>"
      ]
     },
     "metadata": {
      "needs_background": "light"
     },
     "output_type": "display_data"
    }
   ],
   "source": [
    "# Plotting the combination of 3 elements taken 2 at a time\n",
    "\n",
    "comb = list(itertools.combinations([1, 2, 3], 2))\n",
    "plt.scatter(*zip(*comb))\n",
    "plt.show()"
   ]
  },
  {
   "cell_type": "code",
   "execution_count": null,
   "id": "d6a7f1c4",
   "metadata": {},
   "outputs": [],
   "source": []
  }
 ],
 "metadata": {
  "kernelspec": {
   "display_name": "Python 3 (ipykernel)",
   "language": "python",
   "name": "python3"
  },
  "language_info": {
   "codemirror_mode": {
    "name": "ipython",
    "version": 3
   },
   "file_extension": ".py",
   "mimetype": "text/x-python",
   "name": "python",
   "nbconvert_exporter": "python",
   "pygments_lexer": "ipython3",
   "version": "3.9.6"
  }
 },
 "nbformat": 4,
 "nbformat_minor": 5
}
